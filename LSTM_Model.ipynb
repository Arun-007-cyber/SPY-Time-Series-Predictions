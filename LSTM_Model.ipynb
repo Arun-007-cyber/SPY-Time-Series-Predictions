{
  "nbformat": 4,
  "nbformat_minor": 0,
  "metadata": {
    "accelerator": "GPU",
    "colab": {
      "name": "LSTM Model.ipynb",
      "provenance": [],
      "collapsed_sections": [
        "vidayERjaO5q"
      ],
      "toc_visible": true
    },
    "kernelspec": {
      "display_name": "Python 3",
      "name": "python3"
    }
  },
  "cells": [
    {
      "cell_type": "markdown",
      "metadata": {
        "id": "rc7DTpLs9wiz",
        "colab_type": "text"
      },
      "source": [
        "# Building an LSTM model to predict the price of the S&P 500"
      ]
    },
    {
      "cell_type": "markdown",
      "metadata": {
        "colab_type": "text",
        "id": "vidayERjaO5q"
      },
      "source": [
        "## Setup"
      ]
    },
    {
      "cell_type": "code",
      "metadata": {
        "colab_type": "code",
        "id": "gqWabzlJ63nL",
        "colab": {}
      },
      "source": [
        "import numpy as np\n",
        "import matplotlib.pyplot as plt\n",
        "import tensorflow as tf\n",
        "import pandas as pd\n",
        "keras = tf.keras\n",
        "\n",
        "from sklearn.preprocessing import MinMaxScaler"
      ],
      "execution_count": null,
      "outputs": []
    },
    {
      "cell_type": "code",
      "metadata": {
        "colab_type": "code",
        "id": "cg1hfKCPldZG",
        "colab": {}
      },
      "source": [
        "def plot_series(time, series, format=\"-\", start=0, end=None, label=None):\n",
        "    plt.plot(time[start:end], series[start:end], format, label=label)\n",
        "    plt.xlabel(\"Time\")\n",
        "    plt.ylabel(\"Value\")\n",
        "    if label:\n",
        "        plt.legend(fontsize=14)\n",
        "    plt.grid(True)\n",
        "    \n",
        "\n",
        "def sequential_window_dataset(series, window_size):\n",
        "    ds = tf.data.Dataset.from_tensor_slices(series)\n",
        "    ds = ds.window(window_size + 1, shift=window_size, drop_remainder=True)\n",
        "    ds = ds.flat_map(lambda window: window.batch(window_size + 1))\n",
        "    ds = ds.map(lambda window: (window[:-1], window[1:]))\n",
        "    return ds.batch(1).prefetch(1)"
      ],
      "execution_count": null,
      "outputs": []
    },
    {
      "cell_type": "code",
      "metadata": {
        "colab_type": "code",
        "id": "iL2DDjV3lel6",
        "colab": {}
      },
      "source": [
        "# Read in data\n",
        "spy = pd.read_csv('SPY.csv')\n",
        "\n",
        "# Convert series into datetime type\n",
        "spy['Date'] = pd.to_datetime(spy['Date'])\n",
        "\n",
        "# Save target series\n",
        "series = spy['Close']\n",
        "\n",
        "# Create train data set\n",
        "train_split_date = '2014-12-31'\n",
        "train_split_index = np.where(spy.Date == train_split_date)[0][0]\n",
        "x_train = spy.loc[spy['Date'] <= train_split_date]['Close']\n",
        "\n",
        "# Create test data set\n",
        "test_split_date = '2019-01-02'\n",
        "test_split_index = np.where(spy.Date == test_split_date)[0][0]\n",
        "x_test = spy.loc[spy['Date'] >= test_split_date]['Close']\n",
        "\n",
        "# Create valid data set\n",
        "valid_split_index = (train_split_index.max(),test_split_index.min())\n",
        "x_valid = spy.loc[(spy['Date'] < test_split_date) & (spy['Date'] > train_split_date)]['Close']"
      ],
      "execution_count": null,
      "outputs": []
    },
    {
      "cell_type": "code",
      "metadata": {
        "id": "5BO5R1yY6moY",
        "colab_type": "code",
        "colab": {}
      },
      "source": [
        "# Plot all lines on one chart to see where one segment starts and another ends\n",
        "plt.plot(x_train, label = 'Train')\n",
        "plt.plot(x_valid, label = 'Validate')\n",
        "plt.plot(x_test, label = 'Test')\n",
        "plt.legend()\n",
        "print(x_train.index.max(),x_valid.index.min(),x_valid.index.max(),x_test.index.min(),x_test.index.max())"
      ],
      "execution_count": null,
      "outputs": []
    },
    {
      "cell_type": "code",
      "metadata": {
        "id": "1GiizAJ_oQjk",
        "colab_type": "code",
        "colab": {}
      },
      "source": [
        "# Reshape values\n",
        "x_train_values = x_train.values.reshape(-1, 1)\n",
        "x_valid_values = x_valid.values.reshape(-1, 1)\n",
        "x_test_values = x_test.values.reshape(-1, 1)\n",
        "\n",
        "#  Create Scaler Object\n",
        "x_train_scaler = MinMaxScaler(feature_range=(0, 1))\n",
        "\n",
        "# Fit x_train values\n",
        "normalized_x_train = x_train_scaler.fit_transform(x_train_values)\n",
        "\n",
        "# Fit x_valid values\n",
        "normalized_x_valid = x_train_scaler.transform(x_valid_values)\n",
        "\n",
        "# Fit x_test values\n",
        "normalized_x_test = x_train_scaler.transform(x_test_values)\n",
        "\n",
        "# All values normalized to training data\n",
        "spy_normalized_to_traindata = x_train_scaler.transform(series.values.reshape(-1, 1))\n",
        "\n",
        "# Example of how to iverse\n",
        "# inversed = scaler.inverse_transform(normalized_x_train).flatten()"
      ],
      "execution_count": null,
      "outputs": []
    },
    {
      "cell_type": "code",
      "metadata": {
        "colab_type": "code",
        "id": "9fPenJpTtuDE",
        "colab": {}
      },
      "source": [
        "class ResetStatesCallback(keras.callbacks.Callback):\n",
        "    def on_epoch_begin(self, epoch, logs):\n",
        "        self.model.reset_states()"
      ],
      "execution_count": null,
      "outputs": []
    },
    {
      "cell_type": "markdown",
      "metadata": {
        "colab_type": "text",
        "id": "EPjK0l9P8OJM"
      },
      "source": [
        "## Find the learning Rate"
      ]
    },
    {
      "cell_type": "code",
      "metadata": {
        "colab_type": "code",
        "id": "cSoUmW-x8OJN",
        "colab": {}
      },
      "source": [
        "keras.backend.clear_session()\n",
        "tf.random.set_seed(42)\n",
        "np.random.seed(42)\n",
        "\n",
        "window_size = 20\n",
        "train_set = sequential_window_dataset(normalized_x_train, window_size)\n",
        "\n",
        "model = keras.models.Sequential([\n",
        "  keras.layers.LSTM(100, return_sequences=True, stateful=True,\n",
        "                    batch_input_shape=[1, None, 1]),\n",
        "  keras.layers.LSTM(100, return_sequences=True, stateful=True),\n",
        "  keras.layers.Dense(1),\n",
        "])\n",
        "lr_schedule = keras.callbacks.LearningRateScheduler(\n",
        "    lambda epoch: 1e-5 * 10**(epoch / 20))\n",
        "reset_states = ResetStatesCallback()\n",
        "optimizer = keras.optimizers.Nadam(lr=1e-5)\n",
        "model.compile(loss=keras.losses.Huber(),\n",
        "              optimizer=optimizer,\n",
        "              metrics=[\"mae\"])\n",
        "history = model.fit(train_set, epochs=100,\n",
        "                    callbacks=[lr_schedule, reset_states])"
      ],
      "execution_count": null,
      "outputs": []
    },
    {
      "cell_type": "code",
      "metadata": {
        "colab_type": "code",
        "id": "KA0GM9sQ8OJO",
        "colab": {}
      },
      "source": [
        "# Plot the learning rate chart\n",
        "plt.semilogx(history.history[\"lr\"], history.history[\"loss\"])\n",
        "plt.axis([1e-8, 1, 0, 0.01])"
      ],
      "execution_count": null,
      "outputs": []
    },
    {
      "cell_type": "markdown",
      "metadata": {
        "id": "7EyiYesc-EPU",
        "colab_type": "text"
      },
      "source": [
        "## Build and Train LSTM Model"
      ]
    },
    {
      "cell_type": "code",
      "metadata": {
        "colab_type": "code",
        "id": "hiHR5pPL8OJP",
        "colab": {}
      },
      "source": [
        "keras.backend.clear_session()\n",
        "tf.random.set_seed(42)\n",
        "np.random.seed(42)\n",
        "\n",
        "window_size = 30\n",
        "train_set = sequential_window_dataset(normalized_x_train, window_size)\n",
        "valid_set = sequential_window_dataset(normalized_x_valid, window_size)\n",
        "\n",
        "model = keras.models.Sequential([\n",
        "  keras.layers.LSTM(100, return_sequences=True, stateful=True,\n",
        "                         batch_input_shape=[1, None, 1]),\n",
        "  keras.layers.LSTM(100, return_sequences=True, stateful=True),\n",
        "  keras.layers.Dense(1),\n",
        "])\n",
        "optimizer = keras.optimizers.Nadam(lr=4e-4)\n",
        "model.compile(loss=keras.losses.Huber(),\n",
        "              optimizer=optimizer,\n",
        "              metrics=[\"mae\"])\n",
        "reset_states = ResetStatesCallback()\n",
        "model_checkpoint = keras.callbacks.ModelCheckpoint(\n",
        "    \"my_checkpoint.h5\", save_best_only=True)\n",
        "early_stopping = keras.callbacks.EarlyStopping(patience=50)\n",
        "model.fit(train_set, epochs=500,\n",
        "          validation_data=valid_set,\n",
        "          callbacks=[early_stopping, model_checkpoint, reset_states])"
      ],
      "execution_count": null,
      "outputs": []
    },
    {
      "cell_type": "markdown",
      "metadata": {
        "id": "kVkhv3sk-LlA",
        "colab_type": "text"
      },
      "source": [
        "## Make Predictions"
      ]
    },
    {
      "cell_type": "code",
      "metadata": {
        "colab_type": "code",
        "id": "nPeZUfQy8OJQ",
        "colab": {}
      },
      "source": [
        "model = keras.models.load_model(\"my_checkpoint.h5\")"
      ],
      "execution_count": null,
      "outputs": []
    },
    {
      "cell_type": "code",
      "metadata": {
        "colab_type": "code",
        "id": "4tFrq5uW8OJR",
        "colab": {}
      },
      "source": [
        "rnn_forecast = model.predict(normalized_x_test[np.newaxis,:])\n",
        "rnn_forecast = rnn_forecast.flatten()\n"
      ],
      "execution_count": null,
      "outputs": []
    },
    {
      "cell_type": "code",
      "metadata": {
        "id": "gsSbjyD8r66o",
        "colab_type": "code",
        "colab": {}
      },
      "source": [
        "# Example of how to iverse\n",
        "rnn_unscaled_forecast = x_train_scaler.inverse_transform(rnn_forecast.reshape(-1,1)).flatten()\n",
        "rnn_unscaled_forecast.shape"
      ],
      "execution_count": null,
      "outputs": []
    },
    {
      "cell_type": "code",
      "metadata": {
        "colab_type": "code",
        "id": "ZfaR6nqj8OJT",
        "colab": {}
      },
      "source": [
        "plt.figure(figsize=(10, 6))\n",
        "plot_series(x_test.index, x_test, label=\"Actual\")\n",
        "plot_series(x_test.index, rnn_unscaled_forecast, label=\"Forecast\")"
      ],
      "execution_count": null,
      "outputs": []
    },
    {
      "cell_type": "code",
      "metadata": {
        "colab_type": "code",
        "id": "Wgf2u2Tp8OJV",
        "colab": {}
      },
      "source": [
        "keras.metrics.mean_absolute_error(x_test, rnn_unscaled_forecast).numpy()"
      ],
      "execution_count": null,
      "outputs": []
    },
    {
      "cell_type": "code",
      "metadata": {
        "id": "yRBHsgYm3qhT",
        "colab_type": "code",
        "colab": {}
      },
      "source": [
        ""
      ],
      "execution_count": null,
      "outputs": []
    }
  ]
}