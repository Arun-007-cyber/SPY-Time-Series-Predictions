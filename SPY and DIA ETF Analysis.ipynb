{
 "cells": [
  {
   "cell_type": "markdown",
   "metadata": {},
   "source": [
    "# Analysis of \"The Market\"\n",
    "\n",
    "Typically whenever someone talks about beating \"the market\" they are talking about an index. The most common indices you may hear mentioned are the S&P500, NASDAQ, and the Dow Jones Industrial. These indices are a basket of stocks created upon different definitions. Those indices can be bought through exchange traded funds (ETFs) are known by their tickers \"SPY\", \"QQQ\", and \"DIA\". Since these are ETFs and not the true indices themselves they may differ slightly from the actual index they are mimicking. This analysis will focus on the SPY and DIA as they are more commonly know.\n",
    "\n",
    "- SPY: The SPDR S&P 500 ETF is the largest ETF tracking the S&P 500. Coincidentally, as the name implies, the S&P500 is comprised of 500 companies. The index is constructed using a weighted average market capitalization, which means larger companies have a greater weighting in the index. \n",
    "\n",
    "\n",
    "- DIA: The Dow Jones Industrial Average is comprised of 30 companies selected by a committee of Wall Street Journal editors.The only selection \"rule\" is companies must be substantial enterprises that represent a significant portion of the economic activity in the U.S. The Dow Jones Industrial Average is the 2nd oldest index dating back to 1896. The Dow Jones is a price-weighted index, meaning its value is derived from the price per share for each stock divided by a common divisor.\n"
   ]
  },
  {
   "cell_type": "markdown",
   "metadata": {},
   "source": [
    "## Load Data into Dataframes and modify"
   ]
  },
  {
   "cell_type": "code",
   "execution_count": 54,
   "metadata": {
    "ExecuteTime": {
     "end_time": "2020-08-19T03:24:22.217444Z",
     "start_time": "2020-08-19T03:24:22.213445Z"
    }
   },
   "outputs": [],
   "source": [
    "import pandas as pd\n",
    "import numpy as np\n",
    "import datetime as dt\n",
    "import seaborn as sns\n",
    "import matplotlib.pyplot as plt\n",
    "from formulas import calculate_returns, compute_log_returns"
   ]
  },
  {
   "cell_type": "code",
   "execution_count": 55,
   "metadata": {
    "ExecuteTime": {
     "end_time": "2020-08-19T03:24:22.690446Z",
     "start_time": "2020-08-19T03:24:22.657445Z"
    }
   },
   "outputs": [
    {
     "name": "stdout",
     "output_type": "stream",
     "text": [
      "There are 6843 rows in SPY and 5587 DIA rows\n",
      "****************************************************************************************************\n",
      "The date range of SPY is 1993 to 2020 \n",
      "       \n",
      " DIA is 1998 to 2020\n"
     ]
    }
   ],
   "source": [
    "# Read data in to dataframes\n",
    "spy = pd.read_csv('etfs/SPY.csv')\n",
    "dia = pd.read_csv('etfs/DIA.csv')\n",
    "\n",
    "# Change date column to datetime type\n",
    "spy['Date'] = pd.to_datetime(spy['Date'])\n",
    "dia['Date'] = pd.to_datetime(dia['Date'])\n",
    "\n",
    "# View amount of daily data\n",
    "print(f'There are {spy.shape[0]} rows in SPY and {dia.shape[0]} DIA rows')\n",
    "print('*'*100)\n",
    "print(f'''The date range of SPY is {spy.Date.dt.year.min()} to {spy.Date.dt.year.max()} \n",
    "       \\n DIA is {dia.Date.dt.year.min()} to {dia.Date.dt.year.max()}''')"
   ]
  },
  {
   "cell_type": "markdown",
   "metadata": {},
   "source": [
    "### Exclude 2020 Data\n",
    "For this excersise, and probably this entire project, we will only be using data up until Dec 31, 2019. This will give us a good complete yearly picture since we are not yet done with 2020."
   ]
  },
  {
   "cell_type": "code",
   "execution_count": 56,
   "metadata": {
    "ExecuteTime": {
     "end_time": "2020-08-19T03:24:23.725446Z",
     "start_time": "2020-08-19T03:24:23.720447Z"
    },
    "scrolled": true
   },
   "outputs": [],
   "source": [
    "# Edit spy dataframe taking out all 2020 points\n",
    "spy = spy.loc[spy.Date.dt.year < 2020]\n",
    "\n",
    "# Edit dia dataframe taking out all 2020 points\n",
    "dia = dia.loc[dia.Date.dt.year < 2020]"
   ]
  },
  {
   "cell_type": "markdown",
   "metadata": {},
   "source": [
    "### Calculate Daily Return and Daily log Return"
   ]
  },
  {
   "cell_type": "markdown",
   "metadata": {},
   "source": [
    "It is better to make predictions of returns versus stock price. This is because a 2% gain on a 100 dollar stock is not the same as a 2% gain on a 10 dollar stock. Stock returns are stationary in the fact that the magnitude is always in the same relative range. We will do a distribution plot further in the notebook."
   ]
  },
  {
   "cell_type": "code",
   "execution_count": 57,
   "metadata": {
    "ExecuteTime": {
     "end_time": "2020-08-19T03:24:27.868615Z",
     "start_time": "2020-08-19T03:24:27.854625Z"
    }
   },
   "outputs": [
    {
     "data": {
      "text/html": [
       "<div>\n",
       "<style scoped>\n",
       "    .dataframe tbody tr th:only-of-type {\n",
       "        vertical-align: middle;\n",
       "    }\n",
       "\n",
       "    .dataframe tbody tr th {\n",
       "        vertical-align: top;\n",
       "    }\n",
       "\n",
       "    .dataframe thead th {\n",
       "        text-align: right;\n",
       "    }\n",
       "</style>\n",
       "<table border=\"1\" class=\"dataframe\">\n",
       "  <thead>\n",
       "    <tr style=\"text-align: right;\">\n",
       "      <th></th>\n",
       "      <th>Date</th>\n",
       "      <th>Open</th>\n",
       "      <th>High</th>\n",
       "      <th>Low</th>\n",
       "      <th>Close</th>\n",
       "      <th>Adj Close</th>\n",
       "      <th>Volume</th>\n",
       "      <th>percent_gain</th>\n",
       "      <th>log_percent_gain</th>\n",
       "    </tr>\n",
       "  </thead>\n",
       "  <tbody>\n",
       "    <tr>\n",
       "      <th>1</th>\n",
       "      <td>1993-02-01</td>\n",
       "      <td>43.96875</td>\n",
       "      <td>44.25000</td>\n",
       "      <td>43.96875</td>\n",
       "      <td>44.25000</td>\n",
       "      <td>26.486324</td>\n",
       "      <td>480500</td>\n",
       "      <td>0.007112</td>\n",
       "      <td>0.007087</td>\n",
       "    </tr>\n",
       "    <tr>\n",
       "      <th>2</th>\n",
       "      <td>1993-02-02</td>\n",
       "      <td>44.21875</td>\n",
       "      <td>44.37500</td>\n",
       "      <td>44.12500</td>\n",
       "      <td>44.34375</td>\n",
       "      <td>26.542448</td>\n",
       "      <td>201300</td>\n",
       "      <td>0.002119</td>\n",
       "      <td>0.002117</td>\n",
       "    </tr>\n",
       "    <tr>\n",
       "      <th>3</th>\n",
       "      <td>1993-02-03</td>\n",
       "      <td>44.40625</td>\n",
       "      <td>44.84375</td>\n",
       "      <td>44.37500</td>\n",
       "      <td>44.81250</td>\n",
       "      <td>26.822998</td>\n",
       "      <td>529400</td>\n",
       "      <td>0.010570</td>\n",
       "      <td>0.010514</td>\n",
       "    </tr>\n",
       "    <tr>\n",
       "      <th>4</th>\n",
       "      <td>1993-02-04</td>\n",
       "      <td>44.96875</td>\n",
       "      <td>45.09375</td>\n",
       "      <td>44.46875</td>\n",
       "      <td>45.00000</td>\n",
       "      <td>26.935240</td>\n",
       "      <td>531500</td>\n",
       "      <td>0.004185</td>\n",
       "      <td>0.004176</td>\n",
       "    </tr>\n",
       "    <tr>\n",
       "      <th>5</th>\n",
       "      <td>1993-02-05</td>\n",
       "      <td>44.96875</td>\n",
       "      <td>45.06250</td>\n",
       "      <td>44.71875</td>\n",
       "      <td>44.96875</td>\n",
       "      <td>26.916538</td>\n",
       "      <td>492100</td>\n",
       "      <td>-0.000694</td>\n",
       "      <td>-0.000695</td>\n",
       "    </tr>\n",
       "  </tbody>\n",
       "</table>\n",
       "</div>"
      ],
      "text/plain": [
       "        Date      Open      High       Low     Close  Adj Close  Volume  \\\n",
       "1 1993-02-01  43.96875  44.25000  43.96875  44.25000  26.486324  480500   \n",
       "2 1993-02-02  44.21875  44.37500  44.12500  44.34375  26.542448  201300   \n",
       "3 1993-02-03  44.40625  44.84375  44.37500  44.81250  26.822998  529400   \n",
       "4 1993-02-04  44.96875  45.09375  44.46875  45.00000  26.935240  531500   \n",
       "5 1993-02-05  44.96875  45.06250  44.71875  44.96875  26.916538  492100   \n",
       "\n",
       "   percent_gain  log_percent_gain  \n",
       "1      0.007112          0.007087  \n",
       "2      0.002119          0.002117  \n",
       "3      0.010570          0.010514  \n",
       "4      0.004185          0.004176  \n",
       "5     -0.000694         -0.000695  "
      ]
     },
     "execution_count": 57,
     "metadata": {},
     "output_type": "execute_result"
    }
   ],
   "source": [
    "# compute daily return\n",
    "spy['percent_gain'] = calculate_returns(spy['Adj Close']) \n",
    "dia['percent_gain'] = calculate_returns(dia['Adj Close'])\n",
    "\n",
    "# compute daily log return\n",
    "spy['log_percent_gain'] = compute_log_returns(spy['Adj Close'])\n",
    "dia['log_percent_gain'] = compute_log_returns(dia['Adj Close'])\n",
    "\n",
    "# Drop first row as the newly calculated columns will be N/A due to no previous data\n",
    "spy = spy.iloc[1:]\n",
    "dia = dia.iloc[1:]\n",
    "\n",
    "# Check out dataframe\n",
    "spy.head()"
   ]
  },
  {
   "cell_type": "markdown",
   "metadata": {},
   "source": [
    "### Let's look at some distributions"
   ]
  },
  {
   "cell_type": "code",
   "execution_count": 58,
   "metadata": {
    "ExecuteTime": {
     "end_time": "2020-08-19T03:24:33.362044Z",
     "start_time": "2020-08-19T03:24:33.218047Z"
    }
   },
   "outputs": [
    {
     "name": "stdout",
     "output_type": "stream",
     "text": [
      "mean    0.000434\n",
      "min    -0.098448\n",
      "max     0.145198\n",
      "var     0.000130\n",
      "std     0.011421\n",
      "Name: percent_gain, dtype: float64\n"
     ]
    },
    {
     "data": {
      "image/png": "[encoded data removed]",
      "text/plain": [
       "<Figure size 432x288 with 1 Axes>"
      ]
     },
     "metadata": {
      "needs_background": "light"
     },
     "output_type": "display_data"
    }
   ],
   "source": [
    "# print out daily return of the close adjusted price\n",
    "sns.distplot(spy['percent_gain'])\n",
    "print(spy['percent_gain'].agg(['mean','min','max','var', 'std']))"
   ]
  },
  {
   "cell_type": "markdown",
   "metadata": {},
   "source": [
    "**DIA distribution**\n",
    "- Normal-ish distribution. High Kurtosis we will measure. (normal distribution mean = 0 std = 1)\n",
    "- Largest percent gain is 13.5% in one day\n",
    "- Largest loss in a day is -9%\n",
    "- Standard dev (volatility) is slightly larger than S&P500 probably due to less diversification\n"
   ]
  },
  {
   "cell_type": "code",
   "execution_count": 59,
   "metadata": {
    "ExecuteTime": {
     "end_time": "2020-08-19T03:24:33.713047Z",
     "start_time": "2020-08-19T03:24:33.567047Z"
    }
   },
   "outputs": [
    {
     "name": "stdout",
     "output_type": "stream",
     "text": [
      "mean    0.000385\n",
      "min    -0.093947\n",
      "max     0.135560\n",
      "var     0.000132\n",
      "std     0.011468\n",
      "Name: percent_gain, dtype: float64\n"
     ]
    },
    {
     "data": {
      "image/png": "[encoded data removed]",
      "text/plain": [
       "<Figure size 432x288 with 1 Axes>"
      ]
     },
     "metadata": {
      "needs_background": "light"
     },
     "output_type": "display_data"
    }
   ],
   "source": [
    "# show daily return\n",
    "sns.distplot(dia['percent_gain'])\n",
    "print(dia['percent_gain'].agg(['mean','min','max','var', 'std']))"
   ]
  },
  {
   "cell_type": "code",
   "execution_count": 60,
   "metadata": {
    "ExecuteTime": {
     "end_time": "2020-08-19T03:24:34.164047Z",
     "start_time": "2020-08-19T03:24:34.160047Z"
    }
   },
   "outputs": [],
   "source": [
    "spy['sma_3'] = spy.Close.rolling(window=3).mean()"
   ]
  },
  {
   "cell_type": "code",
   "execution_count": 61,
   "metadata": {
    "ExecuteTime": {
     "end_time": "2020-08-19T03:24:35.805072Z",
     "start_time": "2020-08-19T03:24:35.796082Z"
    }
   },
   "outputs": [
    {
     "data": {
      "text/html": [
       "<div>\n",
       "<style scoped>\n",
       "    .dataframe tbody tr th:only-of-type {\n",
       "        vertical-align: middle;\n",
       "    }\n",
       "\n",
       "    .dataframe tbody tr th {\n",
       "        vertical-align: top;\n",
       "    }\n",
       "\n",
       "    .dataframe thead th {\n",
       "        text-align: right;\n",
       "    }\n",
       "</style>\n",
       "<table border=\"1\" class=\"dataframe\">\n",
       "  <thead>\n",
       "    <tr style=\"text-align: right;\">\n",
       "      <th></th>\n",
       "      <th>Date</th>\n",
       "      <th>Open</th>\n",
       "      <th>High</th>\n",
       "      <th>Low</th>\n",
       "      <th>Close</th>\n",
       "      <th>Adj Close</th>\n",
       "      <th>Volume</th>\n",
       "      <th>percent_gain</th>\n",
       "      <th>log_percent_gain</th>\n",
       "      <th>sma_3</th>\n",
       "    </tr>\n",
       "  </thead>\n",
       "  <tbody>\n",
       "    <tr>\n",
       "      <th>1</th>\n",
       "      <td>1993-02-01</td>\n",
       "      <td>43.96875</td>\n",
       "      <td>44.25000</td>\n",
       "      <td>43.96875</td>\n",
       "      <td>44.25000</td>\n",
       "      <td>26.486324</td>\n",
       "      <td>480500</td>\n",
       "      <td>0.007112</td>\n",
       "      <td>0.007087</td>\n",
       "      <td>NaN</td>\n",
       "    </tr>\n",
       "    <tr>\n",
       "      <th>2</th>\n",
       "      <td>1993-02-02</td>\n",
       "      <td>44.21875</td>\n",
       "      <td>44.37500</td>\n",
       "      <td>44.12500</td>\n",
       "      <td>44.34375</td>\n",
       "      <td>26.542448</td>\n",
       "      <td>201300</td>\n",
       "      <td>0.002119</td>\n",
       "      <td>0.002117</td>\n",
       "      <td>NaN</td>\n",
       "    </tr>\n",
       "    <tr>\n",
       "      <th>3</th>\n",
       "      <td>1993-02-03</td>\n",
       "      <td>44.40625</td>\n",
       "      <td>44.84375</td>\n",
       "      <td>44.37500</td>\n",
       "      <td>44.81250</td>\n",
       "      <td>26.822998</td>\n",
       "      <td>529400</td>\n",
       "      <td>0.010570</td>\n",
       "      <td>0.010514</td>\n",
       "      <td>44.468750</td>\n",
       "    </tr>\n",
       "    <tr>\n",
       "      <th>4</th>\n",
       "      <td>1993-02-04</td>\n",
       "      <td>44.96875</td>\n",
       "      <td>45.09375</td>\n",
       "      <td>44.46875</td>\n",
       "      <td>45.00000</td>\n",
       "      <td>26.935240</td>\n",
       "      <td>531500</td>\n",
       "      <td>0.004185</td>\n",
       "      <td>0.004176</td>\n",
       "      <td>44.718750</td>\n",
       "    </tr>\n",
       "    <tr>\n",
       "      <th>5</th>\n",
       "      <td>1993-02-05</td>\n",
       "      <td>44.96875</td>\n",
       "      <td>45.06250</td>\n",
       "      <td>44.71875</td>\n",
       "      <td>44.96875</td>\n",
       "      <td>26.916538</td>\n",
       "      <td>492100</td>\n",
       "      <td>-0.000694</td>\n",
       "      <td>-0.000695</td>\n",
       "      <td>44.927083</td>\n",
       "    </tr>\n",
       "  </tbody>\n",
       "</table>\n",
       "</div>"
      ],
      "text/plain": [
       "        Date      Open      High       Low     Close  Adj Close  Volume  \\\n",
       "1 1993-02-01  43.96875  44.25000  43.96875  44.25000  26.486324  480500   \n",
       "2 1993-02-02  44.21875  44.37500  44.12500  44.34375  26.542448  201300   \n",
       "3 1993-02-03  44.40625  44.84375  44.37500  44.81250  26.822998  529400   \n",
       "4 1993-02-04  44.96875  45.09375  44.46875  45.00000  26.935240  531500   \n",
       "5 1993-02-05  44.96875  45.06250  44.71875  44.96875  26.916538  492100   \n",
       "\n",
       "   percent_gain  log_percent_gain      sma_3  \n",
       "1      0.007112          0.007087        NaN  \n",
       "2      0.002119          0.002117        NaN  \n",
       "3      0.010570          0.010514  44.468750  \n",
       "4      0.004185          0.004176  44.718750  \n",
       "5     -0.000694         -0.000695  44.927083  "
      ]
     },
     "execution_count": 61,
     "metadata": {},
     "output_type": "execute_result"
    }
   ],
   "source": [
    "spy.head()"
   ]
  },
  {
   "cell_type": "code",
   "execution_count": null,
   "metadata": {},
   "outputs": [],
   "source": []
  }
 ],
 "metadata": {
  "kernelspec": {
   "display_name": "Python 3",
   "language": "python",
   "name": "python3"
  },
  "language_info": {
   "codemirror_mode": {
    "name": "ipython",
    "version": 3
   },
   "file_extension": ".py",
   "mimetype": "text/x-python",
   "name": "python",
   "nbconvert_exporter": "python",
   "pygments_lexer": "ipython3",
   "version": "3.7.6"
  },
  "varInspector": {
   "cols": {
    "lenName": 16,
    "lenType": 16,
    "lenVar": 40
   },
   "kernels_config": {
    "python": {
     "delete_cmd_postfix": "",
     "delete_cmd_prefix": "del ",
     "library": "var_list.py",
     "varRefreshCmd": "print(var_dic_list())"
    },
    "r": {
     "delete_cmd_postfix": ") ",
     "delete_cmd_prefix": "rm(",
     "library": "var_list.r",
     "varRefreshCmd": "cat(var_dic_list()) "
    }
   },
   "types_to_exclude": [
    "module",
    "function",
    "builtin_function_or_method",
    "instance",
    "_Feature"
   ],
   "window_display": false
  }
 },
 "nbformat": 4,
 "nbformat_minor": 4
}
